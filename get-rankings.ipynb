{
 "cells": [
  {
   "cell_type": "markdown",
   "id": "530b8e6b",
   "metadata": {},
   "source": [
    "## Querying and Organizing Data"
   ]
  },
  {
   "cell_type": "code",
   "execution_count": 17,
   "id": "0e48565e",
   "metadata": {},
   "outputs": [],
   "source": [
    "import os\n",
    "import logging\n",
    "\n",
    "import pandas as pd\n",
    "\n",
    "from SteamXmlProcessor import SteamXmlProcessor\n",
    "from MathUtils import MathUtils\n",
    "from SteamSpyQuery import SteamSpyQuery\n",
    "from SteamDataBokehGraphGenerator import SteamDataBokehGraphGenerator"
   ]
  },
  {
   "cell_type": "code",
   "execution_count": 18,
   "id": "8c4c1dee",
   "metadata": {},
   "outputs": [],
   "source": [
    "# Set up logging (Jupyter sets up it's own so we have to add ours instead of using a basicConfig)\n",
    "log = logging.getLogger()\n",
    "fhandler = logging.FileHandler(filename='mylog.log', mode='a')\n",
    "formatter = logging.Formatter('%(asctime)s - %(name)s - %(levelname)s - %(message)s')\n",
    "fhandler.setFormatter(formatter)\n",
    "log.addHandler(fhandler)\n",
    "log.setLevel(logging.CRITICAL)"
   ]
  },
  {
   "cell_type": "code",
   "execution_count": 19,
   "id": "1873a87c",
   "metadata": {},
   "outputs": [],
   "source": [
    "def query_steam_data_for_user():\n",
    "    # Note, your 'Game details' must be set to 'Public' for this to work.\n",
    "    # This is done in your profile -> Edit Profile -> Privacy Settings -> Game details\n",
    "    # To find your username, check your profile under General -> Custom URL\n",
    "    username = ''\n",
    "    if username == '':\n",
    "        if os.path.exists(\"steam_id.dat\"):\n",
    "            log.info('Reading steam ID from file')\n",
    "            with open(\"steam_id.dat\", \"r\", encoding=\"utf-8\") as id_file:\n",
    "                username = id_file.read()\n",
    "        else:\n",
    "            raise Exception(\"Missing steam id\")\n",
    "            log.critical('Need steam user ID')\n",
    "\n",
    "    cache_file = f\"{username}_steam_games.xml\"\n",
    "    if os.path.exists(cache_file):\n",
    "        xmlProcessor = SteamXmlProcessor.from_file(cache_file)\n",
    "    else:\n",
    "        xmlProcessor = SteamXmlProcessor.from_username(\n",
    "            username, cache_file)\n",
    "\n",
    "    return xmlProcessor.get_game_infos()   "
   ]
  },
  {
   "cell_type": "code",
   "execution_count": 20,
   "id": "c96cf3e6",
   "metadata": {},
   "outputs": [],
   "source": [
    "# Main\n",
    "\n",
    "# Decorate our steam library info with ranking info from SteamSpy\n",
    "game_infos = query_steam_data_for_user()\n",
    "decorated_game_infos = pd.DataFrame.copy(game_infos)\n",
    "steam_spy_query = SteamSpyQuery()\n",
    "decorated_game_infos = steam_spy_query.get_data_for_games(decorated_game_infos)\n",
    "decorated_game_infos = MathUtils.add_bayesian_average_to_gamespy_dataframe(decorated_game_infos)"
   ]
  },
  {
   "cell_type": "code",
   "execution_count": 21,
   "id": "3396a6d5",
   "metadata": {},
   "outputs": [],
   "source": [
    "# Do any filtering or re-arranging you want to here\n",
    "decorated_game_infos = decorated_game_infos.sort_values(by=['BayesianAverage'], ascending=False)\n",
    "\n",
    "# DLCs have no ratings, drop them from the list\n",
    "decorated_game_infos.drop(decorated_game_infos[decorated_game_infos[\"RatingsRatio\"] == 0].index, inplace = True)\n",
    "\n",
    "# Write to file for easy access\n",
    "decorated_game_infos.to_csv(\"decorated_game_infos.csv\")"
   ]
  },
  {
   "cell_type": "code",
   "execution_count": 22,
   "id": "9accdc97",
   "metadata": {},
   "outputs": [
    {
     "ename": "TypeError",
     "evalue": "SteamDataBokehGraphGenerator.__init__() missing 1 required positional argument: 'decorated_game_infos'",
     "output_type": "error",
     "traceback": [
      "\u001b[1;31m---------------------------------------------------------------------------\u001b[0m",
      "\u001b[1;31mTypeError\u001b[0m                                 Traceback (most recent call last)",
      "\u001b[1;32m~\\AppData\\Local\\Temp/ipykernel_28048/3863772493.py\u001b[0m in \u001b[0;36m<module>\u001b[1;34m\u001b[0m\n\u001b[1;32m----> 1\u001b[1;33m \u001b[0mgraph_generator\u001b[0m \u001b[1;33m=\u001b[0m \u001b[0mSteamDataBokehGraphGenerator\u001b[0m\u001b[1;33m(\u001b[0m\u001b[1;33m)\u001b[0m\u001b[1;33m\u001b[0m\u001b[1;33m\u001b[0m\u001b[0m\n\u001b[0m\u001b[0;32m      2\u001b[0m \u001b[0mgraph_generator\u001b[0m\u001b[1;33m.\u001b[0m\u001b[0mgenerate_most_played_games_graph\u001b[0m\u001b[1;33m(\u001b[0m\u001b[1;33m)\u001b[0m\u001b[1;33m\u001b[0m\u001b[1;33m\u001b[0m\u001b[0m\n\u001b[0;32m      3\u001b[0m \u001b[0mgraph_generator\u001b[0m\u001b[1;33m.\u001b[0m\u001b[0mgenerate_most_played_games_2weeks_graph\u001b[0m\u001b[1;33m(\u001b[0m\u001b[1;33m)\u001b[0m\u001b[1;33m\u001b[0m\u001b[1;33m\u001b[0m\u001b[0m\n\u001b[0;32m      4\u001b[0m \u001b[0mgraph_generator\u001b[0m\u001b[1;33m.\u001b[0m\u001b[0mgenerate_most_played_games_versus_rating_graph\u001b[0m\u001b[1;33m(\u001b[0m\u001b[1;33m)\u001b[0m\u001b[1;33m\u001b[0m\u001b[1;33m\u001b[0m\u001b[0m\n\u001b[0;32m      5\u001b[0m \u001b[0mgraph_generator\u001b[0m\u001b[1;33m.\u001b[0m\u001b[0mgenerate_best_unplayed_games_average\u001b[0m\u001b[1;33m(\u001b[0m\u001b[1;33m)\u001b[0m\u001b[1;33m\u001b[0m\u001b[1;33m\u001b[0m\u001b[0m\n",
      "\u001b[1;31mTypeError\u001b[0m: SteamDataBokehGraphGenerator.__init__() missing 1 required positional argument: 'decorated_game_infos'"
     ]
    }
   ],
   "source": [
    "graph_generator = SteamDataBokehGraphGenerator(decorated_game_infos)\n",
    "graph_generator.generate_most_played_games_graph()\n",
    "graph_generator.generate_most_played_games_2weeks_graph()\n",
    "graph_generator.generate_most_played_games_versus_rating_graph()\n",
    "graph_generator.generate_best_unplayed_games_average()\n",
    "graph_generator.generate_best_unplayed_games_bayesian_average()"
   ]
  },
  {
   "cell_type": "code",
   "execution_count": null,
   "id": "c8cef674",
   "metadata": {},
   "outputs": [],
   "source": []
  }
 ],
 "metadata": {
  "interpreter": {
   "hash": "0b2d132d1c4bca1d5527e4fca89f761b305a5752dbf01b0f9a504b96e77a8506"
  },
  "kernelspec": {
   "display_name": "Python 3 (ipykernel)",
   "language": "python",
   "name": "python3"
  },
  "language_info": {
   "codemirror_mode": {
    "name": "ipython",
    "version": 3
   },
   "file_extension": ".py",
   "mimetype": "text/x-python",
   "name": "python",
   "nbconvert_exporter": "python",
   "pygments_lexer": "ipython3",
   "version": "3.10.0"
  }
 },
 "nbformat": 4,
 "nbformat_minor": 5
}
